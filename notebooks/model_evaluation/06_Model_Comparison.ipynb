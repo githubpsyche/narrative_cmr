{
 "cells": [
  {
   "cell_type": "code",
   "execution_count": null,
   "id": "e5658fcc",
   "metadata": {},
   "outputs": [],
   "source": []
  }
 ],
 "metadata": {
  "jupytext": {
   "cell_metadata_filter": "-all",
   "main_language": "python",
   "notebook_metadata_filter": "-all"
  }
 },
 "nbformat": 4,
 "nbformat_minor": 5
}

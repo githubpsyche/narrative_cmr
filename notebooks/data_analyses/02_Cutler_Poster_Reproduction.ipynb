{
 "cells": [
  {
   "cell_type": "markdown",
   "id": "3facc3e1",
   "metadata": {},
   "source": [
    "# Cutler Poster Reproduction\n",
    "Let's confirm that our pipeline is sound by reproducing the main analyses from the Cutler (2019) poster on this same dataset."
   ]
  },
  {
   "cell_type": "markdown",
   "id": "a77abf24",
   "metadata": {},
   "source": [
    "## Dependencies"
   ]
  },
  {
   "cell_type": "code",
   "execution_count": null,
   "id": "4a853bfe",
   "metadata": {},
   "outputs": [],
   "source": [
    "import pandas as pd\n",
    "import numpy as np\n",
    "import seaborn as sns\n",
    "import matplotlib.pyplot as plt\n",
    "from psifr import fr\n",
    "\n",
    "# load recall data frame\n",
    "data = pd.read_csv('data/psifr_sbs.csv')\n",
    "events = fr.merge_free_recall(\n",
    "    data, list_keys=['item_index', 'cycle', 'story_index', \n",
    "                     'story_name', 'time_test'])\n",
    "events.head()"
   ]
  },
  {
   "cell_type": "markdown",
   "id": "cb99dea6",
   "metadata": {},
   "source": [
    "## Recall Rates\n",
    "Her first figure compared recall rates between immediate and delayed recall conditions, plotting a unique point for each subject in the dataset. "
   ]
  },
  {
   "cell_type": "code",
   "execution_count": null,
   "id": "da1afa67",
   "metadata": {},
   "outputs": [],
   "source": [
    "recall_rates_by_timetest = events.pivot_table(\n",
    "    index=['subject', 'time_test'], values='recall').reset_index()\n",
    "recall_rates_by_timetest.head()"
   ]
  },
  {
   "cell_type": "markdown",
   "id": "6d1c9e1c",
   "metadata": {},
   "source": [
    "I have to figure out which timeTest columns she used for each condition. My hypothesis based on her methodology panel is that she used the second column for her 'immediate' condition and the third column for her 'delayed' condition."
   ]
  },
  {
   "cell_type": "code",
   "execution_count": null,
   "id": "f2351da3",
   "metadata": {},
   "outputs": [],
   "source": [
    "sns.set_theme(font_scale=1.3, style='darkgrid')\n",
    "\n",
    "sns.catplot(\n",
    "    x='time_test', y=\"recall\", \n",
    "    data=recall_rates_by_timetest.loc[recall_rates_by_timetest.time_test > 1], \n",
    "        jitter=False, s=15, hue='subject', legend=False, palette='pastel');\n",
    "plt.xticks(np.arange(2), ['Immediate', 'Delayed'])\n",
    "plt.yticks(np.arange(0, 1, .25), np.arange(0, 1, .25))\n",
    "plt.xlabel('Time of Test')\n",
    "plt.ylabel('Unit Recall Rate')\n",
    "plt.ylim([0, 1])\n",
    "plt.show()"
   ]
  },
  {
   "cell_type": "markdown",
   "id": "60d21279",
   "metadata": {},
   "source": [
    "My hypothesis seems correct."
   ]
  },
  {
   "cell_type": "markdown",
   "id": "2fe15e3e",
   "metadata": {},
   "source": [
    "## Serial Position Curve"
   ]
  },
  {
   "cell_type": "markdown",
   "id": "834f889a",
   "metadata": {},
   "source": [
    "She rescaled the data as percentiles to enable generalization over story length. I suspect this was a bad idea. I'll focus on producing this plot per story. "
   ]
  },
  {
   "cell_type": "code",
   "execution_count": null,
   "id": "a19cb943",
   "metadata": {},
   "outputs": [],
   "source": [
    "spc = events.query('study').pivot_table(\n",
    "    index=['subject', 'story_name', 'time_test', 'input'], values=['recall']).reset_index()\n",
    "spc.reset_index(level=0, inplace=True)\n",
    "#spc = spc.loc[spc.time_test > 1]\n",
    "spc.head()"
   ]
  },
  {
   "cell_type": "code",
   "execution_count": null,
   "id": "3c3a1e1e",
   "metadata": {},
   "outputs": [],
   "source": [
    "sns.set(style='darkgrid')\n",
    "g = sns.lineplot(data=spc, x='input', y='recall', hue='time_test', palette='pastel')\n",
    "plt.xlabel('Story Position')\n",
    "plt.ylabel('Unit Recall Rate')\n",
    "plt.legend(['Immediate1', 'Immediate2', 'Delayed'], title='Time of Test');"
   ]
  },
  {
   "cell_type": "code",
   "execution_count": null,
   "id": "0b0d438b",
   "metadata": {},
   "outputs": [],
   "source": [
    "for time_test in range(1, 4):\n",
    "    g = sns.FacetGrid(spc.loc[spc.time_test == time_test], col='story_name', height=5, col_wrap=3)\n",
    "    g.map_dataframe(sns.lineplot, 'input', 'recall', hue='time_test', palette='deep', ci=False);\n",
    "    plt.xlabel('Story Position')\n",
    "    plt.ylabel('Unit Recall Rate')\n",
    "    #plt.legend(['Immediate1', 'Immediate2', 'Delayed'], title='Time of Test');\n",
    "    g.fig.subplots_adjust(top=.9)\n",
    "    g.fig.suptitle('Serial Position Curves at Time Test == {}'.format(time_test), fontsize=16)\n",
    "    plt.savefig('results/Lineplot_SPC_by_Story_Time_Test_{}.svg'.format(time_test))\n",
    "    plt.show()"
   ]
  },
  {
   "cell_type": "markdown",
   "id": "082aafe8",
   "metadata": {},
   "source": [
    "We _do_ find a steady decline in performance across serial position at immediate test, but not at delayed test."
   ]
  },
  {
   "cell_type": "markdown",
   "id": "676680e1",
   "metadata": {},
   "source": [
    "## Temporal Contiguity\n",
    "She compared lag-CRPs for the immediate and delayed conditions, across stories and subjects. We'll aggregate outputs from the `fr.lag_crp` function in `psifr`."
   ]
  },
  {
   "cell_type": "code",
   "execution_count": null,
   "id": "274f5b93",
   "metadata": {},
   "outputs": [],
   "source": [
    "lag_crps = []\n",
    "for time_test in pd.unique(events.time_test):\n",
    "    lag_crps.append(fr.lag_crp(events[events.time_test == time_test]))\n",
    "    \n",
    "lag_crp = pd.concat(\n",
    "    lag_crps, keys=pd.unique(events.time_test), names=['time_test']).reset_index()\n",
    "\n",
    "lag_crp = lag_crp.loc[lag_crp.time_test > 1]\n",
    "lag_crp.head()"
   ]
  },
  {
   "cell_type": "code",
   "execution_count": null,
   "id": "6be99e11",
   "metadata": {},
   "outputs": [],
   "source": [
    "sns.set_theme(font_scale=1.2, style=\"darkgrid\")\n",
    "\n",
    "max_lag = 10\n",
    "filt_neg = f'{-max_lag} <= lag < 0'\n",
    "filt_pos = f'0 < lag <= {max_lag}'\n",
    "\n",
    "g = sns.FacetGrid(lag_crp, height=5)\n",
    "g.map_dataframe(\n",
    "    lambda data, **kws: sns.lineplot(\n",
    "        data=data.query(filt_neg), x='lag', y='prob', hue='time_test', palette='pastel', **kws)\n",
    ")\n",
    "g.map_dataframe(\n",
    "    lambda data, **kws: sns.lineplot(\n",
    "        data=data.query(filt_pos), x='lag', y='prob', hue='time_test', palette='pastel', **kws)\n",
    ")\n",
    "g.set_xlabels('Lag in Story From Last Recalled Unit')\n",
    "g.set_ylabels('Conditional Unit Recall Rate')\n",
    "plt.legend(['Immediate', 'Delayed'], title='Time of Test')\n",
    "g.set(ylim=(0, 1));"
   ]
  },
  {
   "cell_type": "markdown",
   "id": "98add859",
   "metadata": {},
   "source": [
    "## Semantic Similarity Matrix\n",
    "First we need to apply a similarity metric close enough to that of the Cutler poster to reproduce the representational similarity matrices she visualized. She reports that she used the GloVe semantic vector space model and focused analysis on \"content words\", presumably excluding stop words as tracked in packages like `nltk` and `spacy`."
   ]
  },
  {
   "cell_type": "code",
   "execution_count": null,
   "id": "ba7eba30",
   "metadata": {},
   "outputs": [],
   "source": [
    "units = events.pivot_table(index=['story_name', 'input'], values='item', aggfunc='first').reset_index()\n",
    "units.head()"
   ]
  },
  {
   "cell_type": "code",
   "execution_count": null,
   "id": "cceb0e28",
   "metadata": {},
   "outputs": [],
   "source": [
    "from sentence_transformers import SentenceTransformer, util\n",
    "import spacy\n",
    "\n",
    "nlp = spacy.load('en_core_web_sm')\n",
    "all_stopwords = nlp.Defaults.stop_words\n",
    "\n",
    "# paraphrase-MiniLM-L12-v2\n",
    "# average_word_embeddings_glove.6B.300d\n",
    "# average_word_embeddings_glove.840B.300d\n",
    "# stsb-distilbert-base\n",
    "model = SentenceTransformer('paraphrase-MiniLM-L12-v2') \n",
    "connections = {}\n",
    "remove_stopwords = False\n",
    "\n",
    "for story_name in ['Fisherman', 'Supermarket', 'Flight', 'Cat', 'Fog', 'Beach']:\n",
    "    \n",
    "    sentences = units.loc[units.story_name==story_name].item.values.tolist()\n",
    "    \n",
    "    clean_sentences = []\n",
    "    for i in range(len(sentences)):\n",
    "        if remove_stopwords:\n",
    "            text_token = nlp(sentences[i])\n",
    "            clean_sentences.append(' '.join([word.text for word in text_token if not word.is_stop]))\n",
    "        else:\n",
    "            clean_sentences.append(sentences[i])\n",
    "    \n",
    "    #Compute embeddings\n",
    "    embeddings = model.encode(clean_sentences, convert_to_tensor=True)\n",
    "\n",
    "    #Compute cosine-similarities for each sentence with each other sentence\n",
    "    cosine_scores = np.abs(util.pytorch_cos_sim(embeddings, embeddings).numpy())\n",
    "    #cosine_scores[np.eye(len(cosine_scores), dtype='bool')] = 1\n",
    "    connections[story_name] = cosine_scores\n",
    "\n",
    "# Let's take a peek at the ranges of these similarity scores.\n",
    "# Technically, they should never be below 0, but norming is always an option.\n",
    "for story_name in connections.keys():\n",
    "    print(story_name)\n",
    "    print(np.nanmax(connections[story_name]), np.nanmin(connections[story_name]))"
   ]
  },
  {
   "cell_type": "code",
   "execution_count": null,
   "id": "5735c1cf",
   "metadata": {},
   "outputs": [],
   "source": [
    "for story_name in connections.keys():\n",
    "    \n",
    "    sns.heatmap(connections[story_name], xticklabels=5, yticklabels=5)\n",
    " #   print(np.nanmean(connections[story_name], axis=1))\n",
    "    plt.title(story_name)\n",
    "    plt.show()"
   ]
  },
  {
   "cell_type": "markdown",
   "id": "beec14ca",
   "metadata": {},
   "source": [
    "The patterns in this matrix seem to be highly sensitive to the STS metric applied. And whether you filter for content words seems to have a meaningful impact, too.\n",
    "\n",
    "Eyeballing these plots suggests that the matrices in Becky's paper were from the Fog and Fisherman story facets, respectively. However, whether I remove stopwords or not, there doesn't see to be any one-to-one accord for any of these matrices."
   ]
  },
  {
   "cell_type": "markdown",
   "id": "7c5bbd6d",
   "metadata": {},
   "source": [
    "## Recall benefit for idea units that are more semantically similar to other idea units in the narrative\n",
    "It looks like for each idea unit across all stories, I need either a mean or summed similarity to every other relevant idea unit, along with its mean recall probability across subjects, split between time_test values. Plot the result and a line of best fit. Should see a nonsignificant positive relationship in the delayed condition but not the immediate."
   ]
  },
  {
   "cell_type": "code",
   "execution_count": null,
   "id": "71c521d9",
   "metadata": {},
   "outputs": [],
   "source": [
    "connection_strengths = {}\n",
    "for story_name in connections.keys():\n",
    "    connection_strengths[story_name] = np.nanmean(connections[story_name], axis=1)\n",
    "\n",
    "strengths_df = events.pivot_table(\n",
    "    index=['story_name', 'time_test', 'input'], values='recall').reset_index()\n",
    "strengths_df['cosine_similarity'] = np.nan\n",
    "\n",
    "for story_name in pd.unique(events.story_name):\n",
    "    for time_test in range(1, 4):\n",
    "        for input in range(1, len(connection_strengths[story_name])+1):\n",
    "            if len(strengths_df.loc[(strengths_df.story_name == story_name) & (\n",
    "                strengths_df.time_test == time_test) & (strengths_df.input == input)]) == 1:\n",
    "\n",
    "                strengths_df.loc[(strengths_df.story_name == story_name) & (\n",
    "                    strengths_df.time_test == time_test) & (\n",
    "                        strengths_df.input == input), 'cosine_similarity'] = connection_strengths[story_name][input-1]\n",
    "\n",
    "strengths_df.head()"
   ]
  },
  {
   "cell_type": "code",
   "execution_count": null,
   "id": "b24297e8",
   "metadata": {},
   "outputs": [],
   "source": [
    "sns.set(style='whitegrid')\n",
    "g = sns.FacetGrid(strengths_df.loc[strengths_df.time_test == 1], \n",
    "    col='story_name', height=5)\n",
    "g.map_dataframe(sns.lineplot, 'input', 'cosine_similarity');\n",
    "g.set_ylabels('Mean Semantic Similarity Across Story Units')\n",
    "g.set_xlabels('Position of Unit in Story')\n",
    "g.set(xticks=np.arange(0, 46, 2))\n",
    "plt.show()"
   ]
  },
  {
   "cell_type": "code",
   "execution_count": null,
   "id": "040f6bc7",
   "metadata": {},
   "outputs": [],
   "source": [
    "sns.set_theme(style='whitegrid')\n",
    "    \n",
    "sns.lmplot(data=strengths_df.loc[strengths_df.time_test > 1], \n",
    "    x=\"cosine_similarity\", y=\"recall\", palette=\"deep\", hue='time_test', legend=False);\n",
    "plt.ylabel('Unit Recall Rate');\n",
    "plt.xlabel('Mean Semantic Similarity Across Story Units')\n",
    "plt.legend(['Immediate', 'Delayed'], title='Time of Test');"
   ]
  },
  {
   "cell_type": "markdown",
   "id": "6f66a2b3",
   "metadata": {},
   "source": [
    "## Semantic CRP\n",
    "This wasn't in the original poster, but is a natural extension.\n",
    "\n",
    "The `psifr` library's `fr.distance_crp` function sorts distances into bins and then applies a lag_rank analysis to the result apparently. What's best practice for bin sorting? Cover the whole score range, size so a large enough sample is in each pool?"
   ]
  },
  {
   "cell_type": "code",
   "execution_count": null,
   "id": "c23b876d",
   "metadata": {},
   "outputs": [],
   "source": [
    "sem_crps = []\n",
    "\n",
    "# choose bins for CRP\n",
    "bin_size = .25\n",
    "np.arange(0, 1 + bin_size, bin_size)\n",
    "edges = np.arange(0, 1 + bin_size, bin_size)\n",
    "\n",
    "# build list of sem_crps across each factor i'm interested\n",
    "for time_test in pd.unique(events.time_test):\n",
    "    for story_name in pd.unique(events.story_name):\n",
    "        subset = events.loc[(events.time_test == time_test) & (\n",
    "            events.story_name == story_name)]\n",
    "        dcrp = fr.distance_crp(\n",
    "            subset, 'item_index', connections[story_name], edges)\n",
    "        dcrp['story_name'] = story_name\n",
    "        if time_test == 1:\n",
    "            dcrp['time_test'] = 1\n",
    "        elif time_test == 2:\n",
    "            dcrp['time_test'] = 'Immediate'\n",
    "        else:\n",
    "            dcrp['time_test'] = 'Delayed'\n",
    "        sem_crps.append(dcrp)\n",
    "    \n",
    "sem_crp = pd.concat(sem_crps).reset_index()\n",
    "sem_crp = sem_crp.loc[sem_crp.time_test != 1]\n",
    "sem_crp = sem_crp.pivot_table(index=['time_test', 'subject', 'center'], values='prob').reset_index()\n",
    "sem_crp"
   ]
  },
  {
   "cell_type": "code",
   "execution_count": null,
   "id": "5f7a637f",
   "metadata": {
    "lines_to_next_cell": 2
   },
   "outputs": [],
   "source": [
    "g = sns.FacetGrid(data=sem_crp, col='time_test')\n",
    "g.map_dataframe(sns.lineplot, x='center', y='prob')\n",
    "g.map_dataframe(sns.scatterplot, x='center', y='prob', hue='subject', palette='pastel')\n",
    "g.set_xlabels('Similarity of Last Recalled Unit')\n",
    "g.set_ylabels('Conditional Unit Recall Rate');\n",
    "plt.ylim([0, .15])\n",
    "#plt.xlim([0, 1])"
   ]
  },
  {
   "cell_type": "markdown",
   "id": "9bfe20c6",
   "metadata": {
    "lines_to_next_cell": 2
   },
   "source": [
    "So the semantic CRP analysis is really noisy even when we include data from all stories. Standard deviation also seems to vary as semantic similarity increases, particularly in the delayed condition. That's the definition heteroskedasticity, right? I have no idea what the significance of that observation might be though. And the shape of this curve seems to depend substantially on the analysis anyway. I might end up concluding that I simply need more data. Will need some reflection about why though. In the meantime, let's clarify these analyses."
   ]
  }
 ],
 "metadata": {
  "jupytext": {
   "cell_metadata_filter": "-all",
   "main_language": "python",
   "notebook_metadata_filter": "-all"
  }
 },
 "nbformat": 4,
 "nbformat_minor": 5
}

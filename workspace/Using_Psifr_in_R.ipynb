{
 "cells": [
  {
   "cell_type": "markdown",
   "id": "67585dd8-0e0f-47de-8487-4c8ac18c4a20",
   "metadata": {},
   "source": [
    "# Using Psifr in R\n",
    "If you're doing memory research, like making your plots in R, but don't feel like coding up all the analyses yourself in that language, one option is use R's `reticulate` package to bring in a Python library to do the job. The `psifr` library for analysis and visualization of free recall data is one of the libraries you might be interested in using within R. \n",
    "\n",
    "Even though it is written in Python, `psifr` is well-suited for R because its numerical outputs are Data Frames, rather than vectors or arrays as MATLAB-based functions tend to output. When using `reticulate`, R data frames are automatically converted to and from Python DataFrames. Moreover, the data format required for performing psifr analyses is well suited for the kinds of operations you'll be doing with `ggplot` to make visualizations. These features make use of the library relatively seamless."
   ]
  },
  {
   "cell_type": "markdown",
   "id": "a684a20e-c602-4ee6-ad69-8c52d0e1cf1a",
   "metadata": {},
   "source": [
    "## Setting Up Reticulate and Psifr\n",
    "A full guide for this step can be found [here](https://rstudio.github.io/reticulate/)\n",
    "\n",
    "To make `reticulate` work, you need to already have an installation of Python somewhere on your computer. R might be able to find your installation automatically, but if not you might have to know where your Python install is located. You should also already have `psifr` installed as a Python library. \n",
    "\n",
    "To do this, use pip in your terminal:\n",
    "\n",
    "```python\n",
    "pip install psifr\n",
    "```"
   ]
  },
  {
   "cell_type": "markdown",
   "id": "73b513c0-e547-4836-8cc1-87dd32d48308",
   "metadata": {},
   "source": [
    "### Installing Reticulate\n",
    "In R, install `reticulate` like so:"
   ]
  },
  {
   "cell_type": "code",
   "execution_count": null,
   "id": "fefcbfb3-2c53-4b82-bd85-ce7a63708c9c",
   "metadata": {},
   "outputs": [],
   "source": [
    "install.packages(\"reticulate\")"
   ]
  },
  {
   "cell_type": "markdown",
   "id": "2ba5cce9-4788-48ff-b755-76e74e0e3189",
   "metadata": {},
   "source": [
    "### Starting Reticulate With a Specified Python Version"
   ]
  },
  {
   "cell_type": "code",
   "execution_count": 2,
   "id": "3e582897-6a3b-427b-9d64-39df14532408",
   "metadata": {},
   "outputs": [],
   "source": [
    "library(reticulate)\n",
    "use_python(\"C:/ProgramData/Miniconda3/python\")"
   ]
  },
  {
   "cell_type": "markdown",
   "id": "950c4c88-3524-4f46-a5a3-45b9da14a724",
   "metadata": {},
   "source": [
    "## Using Psifr (or any other python package) in R\n",
    "You can use the import() function to import any Python module and call it from R. `psifr` includes various submodules (with `fr` being the one most typically relevant for our research), so we technically import `psifr.fr` here."
   ]
  },
  {
   "cell_type": "markdown",
   "id": "aeaaa213-fec1-4d2e-8674-d2be1f8c611b",
   "metadata": {},
   "source": [
    "### Importing the Library and Some Data"
   ]
  },
  {
   "cell_type": "code",
   "execution_count": 16,
   "id": "40d6c6b8-fbad-4b65-b8d5-a11bab8bd786",
   "metadata": {},
   "outputs": [],
   "source": [
    "fr <- import(\"psifr.fr\")"
   ]
  },
  {
   "cell_type": "markdown",
   "id": "91d289bf-0925-49bd-be98-2e89db9841c2",
   "metadata": {},
   "source": [
    "To demo the library, we'll need some data. I'll use a csv generated from the results of Cutler, Palan, Brown-Schmidt, & Polyn (2019). "
   ]
  },
  {
   "cell_type": "code",
   "execution_count": 17,
   "id": "86d28c9d-1089-46d7-a9c8-1e0c663107f5",
   "metadata": {},
   "outputs": [
    {
     "data": {
      "text/html": [
       "<table class=\"dataframe\">\n",
       "<caption>A data.frame: 6 × 10</caption>\n",
       "<thead>\n",
       "\t<tr><th></th><th scope=col>subject</th><th scope=col>list</th><th scope=col>trial_type</th><th scope=col>position</th><th scope=col>item</th><th scope=col>item_index</th><th scope=col>cycle</th><th scope=col>story_index</th><th scope=col>story_name</th><th scope=col>time_test</th></tr>\n",
       "\t<tr><th></th><th scope=col>&lt;int&gt;</th><th scope=col>&lt;int&gt;</th><th scope=col>&lt;chr&gt;</th><th scope=col>&lt;int&gt;</th><th scope=col>&lt;chr&gt;</th><th scope=col>&lt;int&gt;</th><th scope=col>&lt;int&gt;</th><th scope=col>&lt;int&gt;</th><th scope=col>&lt;chr&gt;</th><th scope=col>&lt;int&gt;</th></tr>\n",
       "</thead>\n",
       "<tbody>\n",
       "\t<tr><th scope=row>1</th><td>0</td><td>0</td><td>study</td><td>1</td><td>One fine day an old Maine man was fishing               </td><td>0</td><td>0</td><td>0</td><td>Fisherman</td><td>1</td></tr>\n",
       "\t<tr><th scope=row>2</th><td>0</td><td>0</td><td>study</td><td>2</td><td>on his favorite lake                                    </td><td>1</td><td>0</td><td>0</td><td>Fisherman</td><td>1</td></tr>\n",
       "\t<tr><th scope=row>3</th><td>0</td><td>0</td><td>study</td><td>3</td><td>and catching very little                                </td><td>2</td><td>0</td><td>0</td><td>Fisherman</td><td>1</td></tr>\n",
       "\t<tr><th scope=row>4</th><td>0</td><td>0</td><td>study</td><td>4</td><td>Finally, he gave up                                     </td><td>3</td><td>1</td><td>0</td><td>Fisherman</td><td>1</td></tr>\n",
       "\t<tr><th scope=row>5</th><td>0</td><td>0</td><td>study</td><td>5</td><td>and walked back along the shore to his fishing shack    </td><td>4</td><td>1</td><td>0</td><td>Fisherman</td><td>1</td></tr>\n",
       "\t<tr><th scope=row>6</th><td>0</td><td>0</td><td>study</td><td>6</td><td>When he got close to the front door, he saw it was open.</td><td>5</td><td>2</td><td>0</td><td>Fisherman</td><td>1</td></tr>\n",
       "</tbody>\n",
       "</table>\n"
      ],
      "text/latex": [
       "A data.frame: 6 × 10\n",
       "\\begin{tabular}{r|llllllllll}\n",
       "  & subject & list & trial\\_type & position & item & item\\_index & cycle & story\\_index & story\\_name & time\\_test\\\\\n",
       "  & <int> & <int> & <chr> & <int> & <chr> & <int> & <int> & <int> & <chr> & <int>\\\\\n",
       "\\hline\n",
       "\t1 & 0 & 0 & study & 1 & One fine day an old Maine man was fishing                & 0 & 0 & 0 & Fisherman & 1\\\\\n",
       "\t2 & 0 & 0 & study & 2 & on his favorite lake                                     & 1 & 0 & 0 & Fisherman & 1\\\\\n",
       "\t3 & 0 & 0 & study & 3 & and catching very little                                 & 2 & 0 & 0 & Fisherman & 1\\\\\n",
       "\t4 & 0 & 0 & study & 4 & Finally, he gave up                                      & 3 & 1 & 0 & Fisherman & 1\\\\\n",
       "\t5 & 0 & 0 & study & 5 & and walked back along the shore to his fishing shack     & 4 & 1 & 0 & Fisherman & 1\\\\\n",
       "\t6 & 0 & 0 & study & 6 & When he got close to the front door, he saw it was open. & 5 & 2 & 0 & Fisherman & 1\\\\\n",
       "\\end{tabular}\n"
      ],
      "text/markdown": [
       "\n",
       "A data.frame: 6 × 10\n",
       "\n",
       "| <!--/--> | subject &lt;int&gt; | list &lt;int&gt; | trial_type &lt;chr&gt; | position &lt;int&gt; | item &lt;chr&gt; | item_index &lt;int&gt; | cycle &lt;int&gt; | story_index &lt;int&gt; | story_name &lt;chr&gt; | time_test &lt;int&gt; |\n",
       "|---|---|---|---|---|---|---|---|---|---|---|\n",
       "| 1 | 0 | 0 | study | 1 | One fine day an old Maine man was fishing                | 0 | 0 | 0 | Fisherman | 1 |\n",
       "| 2 | 0 | 0 | study | 2 | on his favorite lake                                     | 1 | 0 | 0 | Fisherman | 1 |\n",
       "| 3 | 0 | 0 | study | 3 | and catching very little                                 | 2 | 0 | 0 | Fisherman | 1 |\n",
       "| 4 | 0 | 0 | study | 4 | Finally, he gave up                                      | 3 | 1 | 0 | Fisherman | 1 |\n",
       "| 5 | 0 | 0 | study | 5 | and walked back along the shore to his fishing shack     | 4 | 1 | 0 | Fisherman | 1 |\n",
       "| 6 | 0 | 0 | study | 6 | When he got close to the front door, he saw it was open. | 5 | 2 | 0 | Fisherman | 1 |\n",
       "\n"
      ],
      "text/plain": [
       "  subject list trial_type position\n",
       "1 0       0    study      1       \n",
       "2 0       0    study      2       \n",
       "3 0       0    study      3       \n",
       "4 0       0    study      4       \n",
       "5 0       0    study      5       \n",
       "6 0       0    study      6       \n",
       "  item                                                     item_index cycle\n",
       "1 One fine day an old Maine man was fishing                0          0    \n",
       "2 on his favorite lake                                     1          0    \n",
       "3 and catching very little                                 2          0    \n",
       "4 Finally, he gave up                                      3          1    \n",
       "5 and walked back along the shore to his fishing shack     4          1    \n",
       "6 When he got close to the front door, he saw it was open. 5          2    \n",
       "  story_index story_name time_test\n",
       "1 0           Fisherman  1        \n",
       "2 0           Fisherman  1        \n",
       "3 0           Fisherman  1        \n",
       "4 0           Fisherman  1        \n",
       "5 0           Fisherman  1        \n",
       "6 0           Fisherman  1        "
      ]
     },
     "metadata": {},
     "output_type": "display_data"
    }
   ],
   "source": [
    "data = read.csv(\"C:\\\\Users\\\\gunnj\\\\narrative_cmr\\\\data\\\\psifr_sbs.csv\")\n",
    "head(data)"
   ]
  },
  {
   "cell_type": "markdown",
   "id": "48f81ed8-4a60-489f-b2f2-eb72a51f9670",
   "metadata": {},
   "source": [
    "More information about formatting data frames for compatibility with psifr can be found [here](https://psifr.readthedocs.io/en/latest/guide/import.html). I'd really recommend formatting your data this way in general, whether you'll be using `psifr` extensively or not, because data in this format can be transformed pretty easily to carry out most analyses. Either way, committing to a consistent format makes it easier to re-use your code across projects/datasets."
   ]
  },
  {
   "cell_type": "markdown",
   "id": "89fc2ce9-57ac-43fd-9035-13b849fdd1ae",
   "metadata": {},
   "source": [
    "### Serial Position Curve"
   ]
  },
  {
   "cell_type": "markdown",
   "id": "d9246863-d8d5-4655-9f39-79e65e1b9801",
   "metadata": {},
   "source": [
    "With `psifr`, generating a DataFrame useful for plotting a serial position curve of your data can be done in two lines of code: "
   ]
  },
  {
   "cell_type": "code",
   "execution_count": 22,
   "id": "3f7f3159-ca9b-44a9-865d-a7cac380a4f0",
   "metadata": {
    "tags": []
   },
   "outputs": [
    {
     "data": {
      "text/html": [
       "<table class=\"dataframe\">\n",
       "<caption>A data.frame: 6 × 1</caption>\n",
       "<thead>\n",
       "\t<tr><th></th><th scope=col>recall</th></tr>\n",
       "\t<tr><th></th><th scope=col>&lt;dbl&gt;</th></tr>\n",
       "</thead>\n",
       "<tbody>\n",
       "\t<tr><th scope=row>1</th><td>0.6666667</td></tr>\n",
       "\t<tr><th scope=row>2</th><td>0.6111111</td></tr>\n",
       "\t<tr><th scope=row>3</th><td>0.6666667</td></tr>\n",
       "\t<tr><th scope=row>4</th><td>0.7222222</td></tr>\n",
       "\t<tr><th scope=row>5</th><td>0.5000000</td></tr>\n",
       "\t<tr><th scope=row>6</th><td>0.5000000</td></tr>\n",
       "</tbody>\n",
       "</table>\n"
      ],
      "text/latex": [
       "A data.frame: 6 × 1\n",
       "\\begin{tabular}{r|l}\n",
       "  & recall\\\\\n",
       "  & <dbl>\\\\\n",
       "\\hline\n",
       "\t1 & 0.6666667\\\\\n",
       "\t2 & 0.6111111\\\\\n",
       "\t3 & 0.6666667\\\\\n",
       "\t4 & 0.7222222\\\\\n",
       "\t5 & 0.5000000\\\\\n",
       "\t6 & 0.5000000\\\\\n",
       "\\end{tabular}\n"
      ],
      "text/markdown": [
       "\n",
       "A data.frame: 6 × 1\n",
       "\n",
       "| <!--/--> | recall &lt;dbl&gt; |\n",
       "|---|---|\n",
       "| 1 | 0.6666667 |\n",
       "| 2 | 0.6111111 |\n",
       "| 3 | 0.6666667 |\n",
       "| 4 | 0.7222222 |\n",
       "| 5 | 0.5000000 |\n",
       "| 6 | 0.5000000 |\n",
       "\n"
      ],
      "text/plain": [
       "  recall   \n",
       "1 0.6666667\n",
       "2 0.6111111\n",
       "3 0.6666667\n",
       "4 0.7222222\n",
       "5 0.5000000\n",
       "6 0.5000000"
      ]
     },
     "metadata": {},
     "output_type": "display_data"
    }
   ],
   "source": [
    "events <- fr$merge_free_recall(data, list_keys=list('item_index', 'cycle', 'story_index',\n",
    "                                               'story_name', 'time_test'))\n",
    "head(fr$spc(events))"
   ]
  },
  {
   "cell_type": "code",
   "execution_count": 21,
   "id": "5d7ab04e-8e78-4d80-bdf1-fd713601512b",
   "metadata": {
    "collapsed": true,
    "jupyter": {
     "outputs_hidden": true
    },
    "tags": []
   },
   "outputs": [
    {
     "data": {
      "text/html": [
       "<table class=\"dataframe\">\n",
       "<caption>A data.frame: 6 × 14</caption>\n",
       "<thead>\n",
       "\t<tr><th></th><th scope=col>subject</th><th scope=col>list</th><th scope=col>item</th><th scope=col>input</th><th scope=col>output</th><th scope=col>study</th><th scope=col>recall</th><th scope=col>repeat</th><th scope=col>intrusion</th><th scope=col>item_index</th><th scope=col>cycle</th><th scope=col>story_index</th><th scope=col>story_name</th><th scope=col>time_test</th></tr>\n",
       "\t<tr><th></th><th scope=col>&lt;dbl&gt;</th><th scope=col>&lt;dbl&gt;</th><th scope=col>&lt;chr&gt;</th><th scope=col>&lt;dbl&gt;</th><th scope=col>&lt;dbl&gt;</th><th scope=col>&lt;lgl&gt;</th><th scope=col>&lt;lgl&gt;</th><th scope=col>&lt;dbl&gt;</th><th scope=col>&lt;lgl&gt;</th><th scope=col>&lt;dbl&gt;</th><th scope=col>&lt;dbl&gt;</th><th scope=col>&lt;dbl&gt;</th><th scope=col>&lt;chr&gt;</th><th scope=col>&lt;dbl&gt;</th></tr>\n",
       "</thead>\n",
       "<tbody>\n",
       "\t<tr><th scope=row>1</th><td>0</td><td>0</td><td>One fine day an old Maine man was fishing               </td><td>1</td><td>NaN</td><td>TRUE</td><td>FALSE</td><td>0</td><td>FALSE</td><td>0</td><td>0</td><td>0</td><td>Fisherman</td><td>1</td></tr>\n",
       "\t<tr><th scope=row>2</th><td>0</td><td>0</td><td>on his favorite lake                                    </td><td>2</td><td>  2</td><td>TRUE</td><td> TRUE</td><td>0</td><td>FALSE</td><td>1</td><td>0</td><td>0</td><td>Fisherman</td><td>1</td></tr>\n",
       "\t<tr><th scope=row>3</th><td>0</td><td>0</td><td>and catching very little                                </td><td>3</td><td>NaN</td><td>TRUE</td><td>FALSE</td><td>0</td><td>FALSE</td><td>2</td><td>0</td><td>0</td><td>Fisherman</td><td>1</td></tr>\n",
       "\t<tr><th scope=row>4</th><td>0</td><td>0</td><td>Finally, he gave up                                     </td><td>4</td><td>  3</td><td>TRUE</td><td> TRUE</td><td>0</td><td>FALSE</td><td>3</td><td>1</td><td>0</td><td>Fisherman</td><td>1</td></tr>\n",
       "\t<tr><th scope=row>5</th><td>0</td><td>0</td><td>and walked back along the shore to his fishing shack    </td><td>5</td><td>NaN</td><td>TRUE</td><td>FALSE</td><td>0</td><td>FALSE</td><td>4</td><td>1</td><td>0</td><td>Fisherman</td><td>1</td></tr>\n",
       "\t<tr><th scope=row>6</th><td>0</td><td>0</td><td>When he got close to the front door, he saw it was open.</td><td>6</td><td>NaN</td><td>TRUE</td><td>FALSE</td><td>0</td><td>FALSE</td><td>5</td><td>2</td><td>0</td><td>Fisherman</td><td>1</td></tr>\n",
       "</tbody>\n",
       "</table>\n"
      ],
      "text/latex": [
       "A data.frame: 6 × 14\n",
       "\\begin{tabular}{r|llllllllllllll}\n",
       "  & subject & list & item & input & output & study & recall & repeat & intrusion & item\\_index & cycle & story\\_index & story\\_name & time\\_test\\\\\n",
       "  & <dbl> & <dbl> & <chr> & <dbl> & <dbl> & <lgl> & <lgl> & <dbl> & <lgl> & <dbl> & <dbl> & <dbl> & <chr> & <dbl>\\\\\n",
       "\\hline\n",
       "\t1 & 0 & 0 & One fine day an old Maine man was fishing                & 1 & NaN & TRUE & FALSE & 0 & FALSE & 0 & 0 & 0 & Fisherman & 1\\\\\n",
       "\t2 & 0 & 0 & on his favorite lake                                     & 2 &   2 & TRUE &  TRUE & 0 & FALSE & 1 & 0 & 0 & Fisherman & 1\\\\\n",
       "\t3 & 0 & 0 & and catching very little                                 & 3 & NaN & TRUE & FALSE & 0 & FALSE & 2 & 0 & 0 & Fisherman & 1\\\\\n",
       "\t4 & 0 & 0 & Finally, he gave up                                      & 4 &   3 & TRUE &  TRUE & 0 & FALSE & 3 & 1 & 0 & Fisherman & 1\\\\\n",
       "\t5 & 0 & 0 & and walked back along the shore to his fishing shack     & 5 & NaN & TRUE & FALSE & 0 & FALSE & 4 & 1 & 0 & Fisherman & 1\\\\\n",
       "\t6 & 0 & 0 & When he got close to the front door, he saw it was open. & 6 & NaN & TRUE & FALSE & 0 & FALSE & 5 & 2 & 0 & Fisherman & 1\\\\\n",
       "\\end{tabular}\n"
      ],
      "text/markdown": [
       "\n",
       "A data.frame: 6 × 14\n",
       "\n",
       "| <!--/--> | subject &lt;dbl&gt; | list &lt;dbl&gt; | item &lt;chr&gt; | input &lt;dbl&gt; | output &lt;dbl&gt; | study &lt;lgl&gt; | recall &lt;lgl&gt; | repeat &lt;dbl&gt; | intrusion &lt;lgl&gt; | item_index &lt;dbl&gt; | cycle &lt;dbl&gt; | story_index &lt;dbl&gt; | story_name &lt;chr&gt; | time_test &lt;dbl&gt; |\n",
       "|---|---|---|---|---|---|---|---|---|---|---|---|---|---|---|\n",
       "| 1 | 0 | 0 | One fine day an old Maine man was fishing                | 1 | NaN | TRUE | FALSE | 0 | FALSE | 0 | 0 | 0 | Fisherman | 1 |\n",
       "| 2 | 0 | 0 | on his favorite lake                                     | 2 |   2 | TRUE |  TRUE | 0 | FALSE | 1 | 0 | 0 | Fisherman | 1 |\n",
       "| 3 | 0 | 0 | and catching very little                                 | 3 | NaN | TRUE | FALSE | 0 | FALSE | 2 | 0 | 0 | Fisherman | 1 |\n",
       "| 4 | 0 | 0 | Finally, he gave up                                      | 4 |   3 | TRUE |  TRUE | 0 | FALSE | 3 | 1 | 0 | Fisherman | 1 |\n",
       "| 5 | 0 | 0 | and walked back along the shore to his fishing shack     | 5 | NaN | TRUE | FALSE | 0 | FALSE | 4 | 1 | 0 | Fisherman | 1 |\n",
       "| 6 | 0 | 0 | When he got close to the front door, he saw it was open. | 6 | NaN | TRUE | FALSE | 0 | FALSE | 5 | 2 | 0 | Fisherman | 1 |\n",
       "\n"
      ],
      "text/plain": [
       "  subject list item                                                     input\n",
       "1 0       0    One fine day an old Maine man was fishing                1    \n",
       "2 0       0    on his favorite lake                                     2    \n",
       "3 0       0    and catching very little                                 3    \n",
       "4 0       0    Finally, he gave up                                      4    \n",
       "5 0       0    and walked back along the shore to his fishing shack     5    \n",
       "6 0       0    When he got close to the front door, he saw it was open. 6    \n",
       "  output study recall repeat intrusion item_index cycle story_index story_name\n",
       "1 NaN    TRUE  FALSE  0      FALSE     0          0     0           Fisherman \n",
       "2   2    TRUE   TRUE  0      FALSE     1          0     0           Fisherman \n",
       "3 NaN    TRUE  FALSE  0      FALSE     2          0     0           Fisherman \n",
       "4   3    TRUE   TRUE  0      FALSE     3          1     0           Fisherman \n",
       "5 NaN    TRUE  FALSE  0      FALSE     4          1     0           Fisherman \n",
       "6 NaN    TRUE  FALSE  0      FALSE     5          2     0           Fisherman \n",
       "  time_test\n",
       "1 1        \n",
       "2 1        \n",
       "3 1        \n",
       "4 1        \n",
       "5 1        \n",
       "6 1        "
      ]
     },
     "metadata": {},
     "output_type": "display_data"
    }
   ],
   "source": [
    "head(events)"
   ]
  },
  {
   "cell_type": "code",
   "execution_count": null,
   "id": "ec28f044-45f8-4b3a-8721-b3fcf578a0b8",
   "metadata": {},
   "outputs": [],
   "source": []
  }
 ],
 "metadata": {
  "kernelspec": {
   "display_name": "R",
   "language": "R",
   "name": "ir"
  },
  "language_info": {
   "codemirror_mode": "r",
   "file_extension": ".r",
   "mimetype": "text/x-r-source",
   "name": "R",
   "pygments_lexer": "r",
   "version": "4.1.0"
  }
 },
 "nbformat": 4,
 "nbformat_minor": 5
}

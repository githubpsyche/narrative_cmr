{
 "cells": [
  {
   "cell_type": "markdown",
   "id": "b5f35155-db3a-493b-af2e-650830e61c6d",
   "metadata": {
    "extensions": {
     "jupyter_dashboards": {
      "activeView": "grid_default",
      "views": {
       "grid_default": {
        "col": null,
        "height": 2,
        "hidden": true,
        "row": null,
        "width": 2
       }
      }
     }
    }
   },
   "source": [
    "# <center> Relating Reading Comprehension with Retrieved Context Theory"
   ]
  },
  {
   "cell_type": "markdown",
   "id": "50bca2aa-de0a-4414-b24f-72a0d93a0f8c",
   "metadata": {
    "extensions": {
     "jupyter_dashboards": {
      "activeView": "grid_default",
      "views": {
       "grid_default": {
        "col": null,
        "height": 2,
        "hidden": true,
        "row": null,
        "width": 2
       }
      }
     }
    },
    "tags": []
   },
   "source": [
    "## What's the Same Between Reading a Sequence of Words and Reading a Story?\n",
    "Like CMR, models of comprehension are connectionist and conceptualize encoding new information as a dynamic, interactive set of processes including \n",
    "1) the activation of prior relevant knowledge, \n",
    "2) the integration of that activated information with representations of the current experience, and \n",
    "3) updates to both a drifting representation of recenct experience as well as associations encoded into a longer-term associative memory store. "
   ]
  },
  {
   "cell_type": "markdown",
   "id": "ccde4d7b-81d8-4eb6-9262-1057fd152e4f",
   "metadata": {
    "extensions": {
     "jupyter_dashboards": {
      "activeView": "grid_default",
      "views": {
       "grid_default": {
        "col": null,
        "height": 2,
        "hidden": true,
        "row": null,
        "width": 2
       }
      }
     }
    }
   },
   "source": [
    "## What's the Difference??\n",
    "**Convergence.** How strongly a piece of information gets activated depends on support received from related information. In memory, this drives already highly connected idea units in a story toward even greater connectivity by the end of reading, and vice versa for more isolated units. Dynamics like these don't emerge in a model like CMR.\n",
    "\n",
    "**Mapping.** Concrete linguistic structures in a story can relate idea units without in memory based on properties aside from temporal contiguity or even semantic similarity. Different models characterize this mapping process in different ways or with different degrees of sophistication, but all emphasize the importance of this process.\n",
    "\n",
    "**Coherence-Based Retrieval** Comprehension is considered roughly goal-directed, meaning-seeking, aiming at efficient integration of processed ideas into a coherent (logical/consistent) representation. Computationally, this has a couple consequences. First, when mapping between incoming and previously activated concepts during reading fail -- these are called \"cohesion gaps\" in the text -- readers tend to infer relations between text constituents automatically, inferring causal, spatial, and temporal relationships based on prior knowledge. This contributes to the convergence pattern noted above, as reactivation of relevant prior knowledge to understand the current text progressively enhances associations between \n",
    "\n",
    "**Levels of comprehension**. Some models distinguish between surface, text-base, and situation model levels of text understanding. Differences in processes for resolving coherent representations of a text at each level, mediated by reader goals and abilities, are thought to differentially influence final associations between idea units during recall. Other models avoid enforcing these distinctions, but tend to either be very flexible (effectively leaving the implications of these differences to be weighed on a case by case basis through parameter configuration) or very simple. "
   ]
  },
  {
   "cell_type": "markdown",
   "id": "79b42097-d874-41f6-bc9b-5029d177afb9",
   "metadata": {
    "extensions": {
     "jupyter_dashboards": {
      "activeView": "grid_default",
      "views": {
       "grid_default": {
        "col": null,
        "height": 2,
        "hidden": true,
        "row": null,
        "width": 2
       }
      }
     }
    }
   },
   "source": [
    "## How Models Capture The Difference Between Stories and Word Sequences\n",
    "Substantive differences between models of text comprehension mainly revolve entirely around the kinds of linguistic features that drive mapping between **idea units.** For example, the construction-integration model emphasizes argument overlap between units, while the causal networking model emphasizes cause-effect relations within a story and models such as the structure-building and event-indexing model focused on how continuity or disruption thereof could sort stories into sequences of discrete events collecting groups of ideas. \n",
    "\n",
    "The landscape model of reading comprehension is comparatively flexible/agnostic, and allows identification of relations between idea units to be contingent based on the premises of current research, and instead concerning itself with how pre-existing relations between concepts evolve over and a consequence of reading them together in a story."
   ]
  },
  {
   "cell_type": "code",
   "execution_count": null,
   "id": "4ea653d8-244a-4dd2-87b9-10dd8bed5036",
   "metadata": {},
   "outputs": [],
   "source": []
  }
 ],
 "metadata": {
  "extensions": {
   "jupyter_dashboards": {
    "activeView": "grid_default",
    "version": 1,
    "views": {
     "grid_default": {
      "cellMargin": 2,
      "defaultCellHeight": 60,
      "maxColumns": 12,
      "name": "grid",
      "type": "grid"
     }
    }
   }
  },
  "kernelspec": {
   "display_name": "Python 3 (ipykernel)",
   "language": "python",
   "name": "python3"
  },
  "language_info": {
   "codemirror_mode": {
    "name": "ipython",
    "version": 3
   },
   "file_extension": ".py",
   "mimetype": "text/x-python",
   "name": "python",
   "nbconvert_exporter": "python",
   "pygments_lexer": "ipython3",
   "version": "3.9.1"
  }
 },
 "nbformat": 4,
 "nbformat_minor": 5
}

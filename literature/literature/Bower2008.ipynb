{
 "cells": [
  {
   "cell_type": "markdown",
   "id": "43543451-7256-4cf6-b8c5-49c3874dd8ab",
   "metadata": {},
   "source": [
    "# Bower, G. H. (2008). The evolution of a cognitive psychologist: A journey from simple behaviors to complex mental acts. Annu. Rev. Psychol., 59, 1-27.\n",
    "\n",
    "> The author summarizes his evolving interests from conditioning studies within a behaviorist orientation, thence to human memory, knowledge representation, and narrative understanding and memory. Arguing that the study of skilled reading provides a microcosm for revealing cognitive processes, he illustrates this by reviewing his research on the use of spatial priming to investigate readers’ on-line updating of their situational models of texts. Conceptual entities close to the reader's focus of attention within the model are readily retrieved. Retrieval speed from memory declines with the probed object's distance from the current focus and decays with time elapsed in the narrative since the item was last in focus. The focus effect varies with the character's perspective, his status in the story, his active goals, and other factors. The results are accommodated within an associative network model distinguishing just-read sentences in short-term memory from activated portions of long-term memory structures to which they refer."
   ]
  },
  {
   "cell_type": "markdown",
   "id": "4c9ac24c-5793-459f-b722-ae16c299d53d",
   "metadata": {},
   "source": [
    "Relatively recent (last 20 years) but reviews old work in \"narrative understanding and memory\". Highlights some difficult effects and promotes an interesting high-level account of the literature."
   ]
  },
  {
   "cell_type": "markdown",
   "id": "b4d2ceff-6019-44ed-96a3-23e39e4de4b6",
   "metadata": {},
   "source": [
    "## Important Effects"
   ]
  },
  {
   "cell_type": "markdown",
   "id": "a0fe1adf-1a34-4923-89d6-981eaba228b4",
   "metadata": {},
   "source": [
    "### Semantic Integration"
   ]
  },
  {
   "cell_type": "markdown",
   "id": "abda6b5f-52df-4726-8a60-9607e3db6651",
   "metadata": {},
   "source": [
    "**Coherence principles in narratives enhances \"depth of processing\" linking otherwise dissimilar ideas.**\n",
    "\n",
    "> Many of us found that sheer repetition and rote rehearsal of an item in short-term memory was woefully insufficient for recording a more long-lasting memory. So what would accomplish this?\n",
    "\n",
    "> We found that in learning to associate pairs of unrelated words, memory was greatly improved by instructing subjects to search out and form meaningful relationships between the items, such as might be expressed in a sentence—no matter how bizarre\n",
    "\n",
    "What might that mean for theory? Semantic integration drives association in memory. CMR proposes no account of semantic integration, but S-CMR might.\n",
    "\n",
    "There's a big literature on this, but is this a potential benchmark effect in narrative understanding and memory? Not so sure. \"Similarity drives association\" is one thing. \"Deliberate semantic integration drives association\" is another. Definitely different from temporal contiguity too, of course.\n",
    "\n",
    "Most promising possibility is that syntactic features enforces deliberate integration. Co-occurence in sentence or idea unit. And other forms of coherence principles. Do I need a model of coherence to model narrative recall? To some extent, probably. Kintsch's book touches on this too -- I wonder if that has risen to level of benchmark effect?"
   ]
  },
  {
   "cell_type": "markdown",
   "id": "b61e49eb-d2fc-481f-ba6b-5848e9a6106d",
   "metadata": {},
   "source": [
    "## Situation Distance"
   ]
  },
  {
   "cell_type": "markdown",
   "id": "4ff47d08-ed33-46dc-af14-2be9c83d1f10",
   "metadata": {},
   "source": [
    "> To study the role of focus in updating, we familiarized our college student with a map or floor plan of the spatial layout of a building to which later experimental stories would refer (Morrow et al. 1987). The memorized map would serve as the long-term memory base for the later stories. Across different experiments, we varied the floor plan as well as the stories and test items to measure the influence of several variables on the accessibility of different objects in the situational model.\n",
    "\n",
    "> As characters moved about, we measured how quickly subjects remembered from memory places and objects that were temporally or spatially near their focus of attention.\n",
    "\n",
    "### The Basic Distance Effect\n",
    "> We hypothesized that memory activation would be greatest for objects in the location currently in focus (where the protagonist is now) with activation diminishing the further the object was from the focus. We found this distance-effect in our first experiments, in which subjects learned the floor plans of two buildings: a lab and a storage barn (Morrow et al. 1987, 1989)\n",
    "\n",
    "> Probe tests given after a movement sentence clocked the fastest retrieval speeds for the current Location room, followed by the Source room, and then by more distant Other rooms in the building the current story was about. \n",
    "\n",
    "> A criticism of the map-then-story procedure is that it overemphasizes spatial information (learning the map and then answering spatial questions), a process that might prompt subjects to read unnaturally. Perhaps readers do not normally pay so much attention to spatial information (Zwaan & van Oostendorp 1993). In response, Mike Rinck and I (Rinck & Bower 1995) conducted experiments that assessed focus effects without using any interrupting location probes. Instead, we simply measured the time subjects took to read a target sentence that contained an anaphor (such definite noun phrases as “the telephone”) that referred to an object in one of the rooms of a building. Having just moved from a Source into a Goal room, the character thought about (or remembered, planned, envisioned, etc.) doing something with a critical object in another room, e.g., “Wilbur remembered that he should check the VCR in the experiment room.” We found that the further the object (in this case, the VCR) was from the focus on the character's location, the longer it took subjects merely to read the anaphor sentence.\n",
    "\n",
    "### Unit-Based Distance Metric\n",
    "> We wondered if the distance-from-focus effect should be measured by a Euclidean metric (in a straight line as the crow flies) or by route distance: the number of rooms or spatial segments separating the focus from the mentioned object. In experiments by Rinck et al. (1997), these two types of distance were varied independently. The memorized maps allowed the stories and test-probes to put either a long or a short metric distance between the current focus and the referent object. Additionally, this distance either was divided into two rooms or was left as an undivided room. Following a movement across this distance, the character thought about an object along the path. This object was either metrically near or far from the focus room, and that distance either was divided into two rooms or was not. The dependent variables were the time subjects took to read the movement sentence itself and the “think about” object-anaphor sentence.\n",
    "\n",
    "> The experiment produced several clear results. Overall, the primary determinant of reading time was the route (room) distance, and not the Euclidean metric distance. Subjects took longer to read the movement sentence when its path traversed two rooms rather than one, whereas room length had no effect on reading time. Also, the reading time for the anaphor in the thought-about object sentence increased dramatically when the path was divided into two rooms compared to one. Here again, the metric length of this room (or rooms) was immaterial. Readers’ references to an object on the other side of a shared wall (a minimal metric distance), for example, required no more reading time than references to an object on the other side of the building (a long metric distance). Although room segments had a major impact on reading, metric distances had no measurable impact.\n",
    "\n",
    "So it's regular event segmentation, not some semantic parsing of regular distances to determine connectivity!\n",
    "\n",
    "### Elapsed Story Time\n",
    "> Once a character leaves one place and enters another, distinct space, we hypothesize that activation on the initial place decays as its relevance to the character recedes into the past. This decay process turns out to be determined by the lapse of time spelled out in the story, not the real time that passes as subjects read intervening sentences before they hit an anaphor referring back to the original location.\n",
    "\n",
    "> Rinck et al. (2000) investigated this question in experiments that built on the work of Rolf Zwann (1996). Our movement sentences moved the story character from a Source room through a Path room into a Goal room. Significantly, he carries out an activity in the Goal room that alternately is described as taking either a short time (e.g., two minutes) or a long time (e.g., two hours). In addition, we varied the number of intervening sentences separating the movement event from the elapsed story-time statement, following which we presented the probe test. The probe measured the accessibility of an object in the Path room. For example, Wilbur walks from room A (through room B) into room C, where he notices that room C needs to be cleaned up. This action was followed by zero or five sentences elaborating on the activity in room C before the critical time-lapse sentence stated that Wilbur took either two minutes or two hours to clean up room C. We probe-tested the subject, asking about an object in either Path room B or Goal room C. If elapsed story time is critical for deactivation of earlier entities, then objects in the Path room will have notably less activation after a stated two-hour cleanup than a cleanup said to take just two minutes.\n",
    "\n",
    "> The results in this experiment were striking: The elapsed story time caused a large and consistent slowing of object retrieval time, whereas actual elapsed reading time (determined by the zero versus five intervening sentences) had virtually no effect. Retrieval times for objects in the just-left room were markedly slower following elapsed hours than elapsed minutes. This occurred even though subjects took no longer to read the elapsed-hours statements than the elapsed-minutes statements. Apparently, readers of the longer (hours) verb-modifier deactivated Path-room objects significantly more than did readers of the shorter (minutes) verb modifier. This inhibition occurs very quickly given that the test probe immediately followed the subject's self-paced reading of the elapsed time sentence. Such rapid suppression of activation has been a premise of several language-processing theories (Gernsbacher 1990).\n",
    "\n",
    "So this one is more semantic. Can I model influence of \"shifts\" on segmentation? Probably if I manually code the cues or use relevant heuristics. Big idea from all this so far though is that shifts signaled by content (not just temporal order) can drive bigger segmentation of information in focus. I don't think the landscape model can account for this.\n",
    "\n",
    "### Priming by a Momentary Active Goal\n",
    "> In our goal-activation experiments (Rinck & Bower 1999, 2003), each story tested several goal-related probes by introducing a momentary, minor goal that temporarily interrupts the character's overarching main goal. For example, Wilbur's main goal in one story was to clean up all the rooms in the research building before tomorrow's inspection by the board of directors. During this lengthy chore, however, he has the apparently spontaneous thought that he also needs to make copies of a handout for his speech to the directors the next day. Once Wilbur addresses this momentary copying goal and we have probed the accessibility of some related object, the narrative returns Wilbur to his chief goal: cleaning up the building.\n",
    "\n",
    "> This experiment revealed major effects of spatial distance and goal relevance on memory-retrieval times. As expected, Location-room probes always were answered more quickly than Source-room probes. Independently, probes of goal-relevant objects were always answered more quickly than probes of goal-irrelevant objects. Significantly, these two factors did not interact: The speed-up advantage of goal-relevant over goal-irrelevant probes was about the same for objects in the Location room as for those in the Source room.\n",
    "\n",
    "In a way, the landscape model predicts this. But available technology makes modeling this hard. If goal relevance is tracked by the computed similarity metric, then the model will succeed. But that information is maybe contingent on the content of the text!\n",
    "\n",
    "### Priming by Active, Completed, or Postponed Goals\n",
    "> The accessibility of goals and their relevant objects vary throughout a story, reflecting their evolving status with the protagonist. Earlier research has shown that a character's active, uncompleted goals remain more accessible than completed goals (Dopkins et al. 1993, Lutz & Radvansky 1997, Suh & Trabasso 1993). Presumably, a protagonist's uncompleted goals are kept active in the reader's working memory, as opposed to completed goals, which fall victim either to passive decay or by inhibition. Readers expect that completed goals will no longer motivate the character and, therefore, will no longer be needed to explain the character's later actions.\n",
    "\n",
    "Even more troubling. An adaptive process that predicts relevance of information for ongoing reading to determine whether information will be preserved in memory or not! That's the super-account of what's kept in focus. \n",
    "\n",
    "But it's clear that the mechanism isn't perfect. Metric and room distance could be similarly important for deciding continued relevance, but aren't weighed the same. This may still be a \"dumb\" process."
   ]
  },
  {
   "cell_type": "markdown",
   "id": "63295760-3374-4478-9202-64f24e880df1",
   "metadata": {},
   "source": [
    "## Minor(?) Effects"
   ]
  },
  {
   "cell_type": "markdown",
   "id": "ae762ea0-6413-4560-9dca-f0b39475bbe0",
   "metadata": {},
   "source": [
    "> Our early research showed that adults not only prefer stories that follow the canonical grammar but also recall them far better than they do randomly scrambled sentences (Bower 1976, Thorndyke 1977). \n",
    "\n",
    "Doesn't necessarily mean we use story grammars. But does show idea order matters, and not just for \"which\" ideas are learned. Can we model this? Sure. Need to see if this is benchmark or not -- really could be.\n",
    "\n",
    "> A crucial element for recall is the overall goal of the protagonist. If no overall goal is expressed or strongly implied, comprehension and recall plummet.\n",
    "\n",
    "Uncited. But harder to model with traditional methods, for sure. Could similarity between goal language and action language help account? Maybe. Need to see if this is benchmark or not.\n",
    "\n",
    "> Comprehension also suffers if subgoals, actions, and outcomes are spread out and misaligned over different episodes of the story. \n",
    "\n",
    "Shouldn't be too hard.\n",
    "\n",
    "> Furthermore, when summarizing a story, people typically recite the “higher” units of the grammatical hierarchy by naming the main characters, main setting, main goal, and main outcome. In other words, as the grammar expected, people recall the essential gist of the story, while letting go of lesser details. Kintsch (1974) similarly found that people recall the main points (generalizations) rather than finer details of expository text.\n",
    "\n",
    "Landscape model has some centrality ideas that S-CMR might ape.\n",
    "\n",
    "> This and other research (e.g., Mandler & Johnson 1977, Stein 1988) established that people in our culture acquire and use a schema that allows them to identify the principal elements of a well-formed narrative and how these elements are structured. This schema also guides their later recall of the narrative.\n",
    "\n",
    "I'll want to see if that other research has a cultural bent."
   ]
  },
  {
   "cell_type": "markdown",
   "id": "cad8d562-14fb-4e7b-9f24-9a681337e22f",
   "metadata": {},
   "source": [
    "## The Theory"
   ]
  },
  {
   "cell_type": "markdown",
   "id": "f0d981f2-3e94-4f9e-930c-9eb488b36796",
   "metadata": {},
   "source": [
    "From abstract...\n",
    "\n",
    "> Arguing that the study of skilled reading provides a microcosm for revealing cognitive processes, he illustrates this by reviewing his research on the use of spatial priming to investigate readers’ on-line updating of their situational models of texts. Conceptual entities close to the reader's focus of attention within the model are readily retrieved. Retrieval speed from memory declines with the probed object's distance from the current focus and decays with time elapsed in the narrative since the item was last in focus. The focus effect varies with the character's perspective, his status in the story, his active goals, and other factors. The results are accommodated within an associative network model distinguishing just-read sentences in short-term memory from activated portions of long-term memory structures to which they refer.\n",
    "\n",
    "Would want to configure CMR as a recognition memory model based on Kahana and all's work on CMR-2, I think to model this. Attentional focus potentially modelable in terms of contextual representation. The \"retrieval speed decays with time elapsed in the narrative since the item was last in focus\" part is easy to model, and so is variabion based on re-instatement. \n",
    "\n",
    "Time-based distance is easy to model with CMR, but distance within the situation model is harder. Other work provides ideas for modeling event segmentation. But we'd need some way to model...relational distance...to track just how segmentation to do. Cool constraint!"
   ]
  },
  {
   "cell_type": "markdown",
   "id": "8f751fd3-5e72-4b0e-ad51-763b3eba1e84",
   "metadata": {},
   "source": [
    "## Highlighted Work"
   ]
  },
  {
   "cell_type": "markdown",
   "id": "8fa115d2-af21-4e12-bb5c-ac8fd50b212f",
   "metadata": {},
   "source": [
    "> For example, successive sentences should carry forward somewhat the same topic (concepts) and introduce new facts about it in a multilayered, interwoven way (Fletcher et al. 1996). Impressed by the pioneering theories of Walter Kintsch (1974), Roger Schank (1975b), and David Rumelhart (1975), my students and I began investigations of narrative comprehension and memory. \n",
    "\n",
    "\n",
    "> Theorists of situation models (as articulated by Zwaan et al. 1995) have hypothesized that the more significant attributes or dimensions of story situations include variations in story time, space, the current actor, his goals, emotions, and important causal relationships between events. What makes a text coherent is a high degree of overlap or constancy of these attributes from one clause to the next. Major changes in any of these attributes usually cause readers to update their current model. Research has shown that the greater the number of these attributes that are changed from one sentence to the next, the greater the updating that must occur, and the more time readers take to read and process those changes.\n",
    "> Zwaan RA, Magliano JP, Graesser AC. 1995. Dimensions of situation model construction in narrative comprehension. J. Exp. Psychol. Learn. Mem. Cogn. 21: 386–97\n"
   ]
  },
  {
   "cell_type": "markdown",
   "id": "af0d27e2-3cb8-4eaf-be78-7349d1d76dcc",
   "metadata": {},
   "source": [
    "## Big Ideas"
   ]
  },
  {
   "cell_type": "markdown",
   "id": "ee780199-8f26-4b70-b57b-3d2703b17ab2",
   "metadata": {},
   "source": [
    "### Story Grammar\n",
    ">  Colby (1973) and Rumelhart (1975) even conjectured that there might be something like a context-free story grammar. That is, some rewrite rules would specify how large narrative components would be expressed in terms of smaller constituents or terminal elements. For example, a narrative consists of a setting, a theme, episodes, and an outcome. The setting in turn can be rewritten as a list of characters and places. The theme is one or more goals, and an episode is made up of characters’ actions in a setting that yields outcomes. Those outcomes, in turn, may establish new narrative subgoals. Rumelhart proposed that readers use this framework to interpret, understand, and recall simple problem-solving stories.\n",
    "\n",
    "> This and other research (e.g., Mandler & Johnson 1977, Stein 1988) established that people in our culture acquire and use a schema that allows them to identify the principal elements of a well-formed narrative and how these elements are structured. This schema also guides their later recall of the narrative.\n",
    "\n",
    "I'm not convinced that the evidence can't be explained in terms of the landscape model's semantic connectivity mechanism, but we'll see. Seems to not have much currency anymore or tied clearly to specific benchmark phenomena."
   ]
  },
  {
   "cell_type": "markdown",
   "id": "df3bc47b-2a33-491e-beac-a53dddabecb4",
   "metadata": {},
   "source": [
    "### Situation Models\n",
    "> Dating from van Dijk & Kintsch (1983), researchers have developed the consensus that as people read or hear a story about events, a cascade of different cognitive processes go on in parallel, building multilevel representations of the information. First, readers take in the surface structure of the printed (or spoken) sentences and hold it in their working memory for several seconds. From this surface structure, they extract a propositional text base containing the logical relations between the concepts and the predicates stated in the text. Finally, a referential representation of what the text is about is constructed. This situation model or a mental model (Bower 1989, Johnson-Laird 1983, Zwaan & Radvansky 1998) is not the text itself but rather is what the text refers to. In some respects, the situation model is like a mental image of the story's settings and actions that the reader constructs and modifies based on clues in the text. In other respects, however, the model differs from an image. It contains, for example, hidden information that would not be visible in an image, such as characters’ motives, thoughts, and hidden weapons.\n",
    "\n",
    "Called a consensus view, which seems to bear out in what I've read, both old and new (e.g. that Tal Yarkoni[?] paper). Need to see the kind of evidence normally reviewed to demonstrate this insight. Interesting that the landscape model doesn't seem to embrace it."
   ]
  },
  {
   "cell_type": "markdown",
   "id": "44bad3b7-7257-4e79-b62c-4450d8e485c1",
   "metadata": {},
   "source": [
    "### Causal Connectivity\n",
    "> Tom Trabasso and his associates (Suh & Trabasso 1993, Trabasso & Sperry 1985, Trabasso & Suh 1993, Trabasso & van den Broek 1985) analyzed many simple narratives, asking whether each event (described in a story statement) was enabled or caused by earlier events or whether it enables or causes later events. In a coherent story, the enabling events and causes form a web of connections. The importance of a statement in a story turns out to be determined by its number of connections. This connectivity is what determines the likelihood that readers will recall a given statement (or the event that it describes) or will include it when summarizing the story. This causal analysis replaces the empty platitude that readers recall the gist of a story (Bartlett 1932)—a statement that is useless until we know what determines the gist. Causal connectivity, based simply on analysis of the text itself, is an excellent predictor of what readers consider the gist of a narrative.\n",
    "\n",
    "Indirectly explains how clear motives improves recall; they create a way that elements enable other elements. Trouble for a text-focused account of narrative recall since these associations are often latent within a story. "
   ]
  },
  {
   "cell_type": "markdown",
   "id": "0857d894-5c21-415d-a7e0-13ac47594f4d",
   "metadata": {},
   "source": [
    "## Side Stuff"
   ]
  },
  {
   "cell_type": "markdown",
   "id": "d2a58bf2-4c4c-496b-857a-a9b8c61e2d92",
   "metadata": {},
   "source": [
    ">  Second, reading, remembering, and summarizing narratives are familiar cognitive tasks for most literate people. \n",
    "\n",
    "Summarizing important?"
   ]
  },
  {
   "cell_type": "markdown",
   "id": "aab149ca-552a-431e-a2a0-c633781c447f",
   "metadata": {},
   "source": [
    "Variable processing times seem demosntarted to lead to variable memory representations, even if extra processing is due to problems with the text. People spend more time processing stuff that isn't \"supported\" by previous text. This can lead to improved recall for that stuff. A discrepancy-processing mechanism that enhances learning for less supported idea units might predict difference between forced and free reading recall."
   ]
  },
  {
   "cell_type": "markdown",
   "id": "bce60285-006e-448a-a62a-4509d0a40dfa",
   "metadata": {},
   "source": [
    "## Summation\n",
    "Paper is largely a review of evidence for a situation model -- operationally, the influence of different sorts of \"representational distance\" on recall phenomena including reading time, recogntion, free recall, summarization, etc.\n",
    "\n",
    "The ideas in focus determine accessibility of ideas out of focus, or the ideas of focus keep accessible ideas in focus, too. RCT also proposes that current state of context makes certain items more accessible than others for the next recall. Semantic CMR adds semantic similarity as an additional \"access route\". Landscape model proposes a way this pattern of priming across reading may shape final representations. So, again, the main critique of S-CMR is that it supposes dynamic reinstatement over the course of encoding only happens at the level of temporal context when reinstatement into semantic context may similarly configure which associations are learned or not.\n",
    "\n",
    "The Revised Landscape model probably can't account for a lot of the effects here because vector space similarity can only capture a sliver of how semantic connections between idea units are formed. But if I had to guess a main theoretical deficiency in that model -- ie a deficiency not in word vectors but in how semantic connections are used once known -- it's event segmentation. Language can cue not just retrieval (coherence) but also separation, segmentation.\n",
    "\n",
    "That might not even be the right division. If postponement can weaken links, then really the division is between suppression cues and integration cues. Coherence principles are important for the latter, but other principles are important for the other. I need to find some way to integrate a grasp of those shifts into a model."
   ]
  },
  {
   "cell_type": "code",
   "execution_count": null,
   "id": "39f2f57f-7815-4c01-b7be-6c446b8e1619",
   "metadata": {},
   "outputs": [],
   "source": []
  }
 ],
 "metadata": {
  "kernelspec": {
   "display_name": "Python 3 (ipykernel)",
   "language": "python",
   "name": "python3"
  },
  "language_info": {
   "codemirror_mode": {
    "name": "ipython",
    "version": 3
   },
   "file_extension": ".py",
   "mimetype": "text/x-python",
   "name": "python",
   "nbconvert_exporter": "python",
   "pygments_lexer": "ipython3",
   "version": "3.9.1"
  }
 },
 "nbformat": 4,
 "nbformat_minor": 5
}

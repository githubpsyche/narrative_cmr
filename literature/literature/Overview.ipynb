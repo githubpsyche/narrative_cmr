{
 "cells": [
  {
   "cell_type": "markdown",
   "id": "0fd91f67-b496-4ff3-9d6c-14c5caff9000",
   "metadata": {},
   "source": [
    "Bower (2008) reviews semantic (rather than temporal) factors driving association between narrative units in memory as well as semantic factors driving dissociation. He emphasizes that these factors drive or suppress association at different representational levels -- textual, propositional, situational -- but focuses his review on situational-level effects. He also shows that situation distance is shaped by diverse factors, including spatial distance, temporal distance, and relevance to a character's goals or mental state. \n",
    "\n",
    "He embraces an associative-network-based account of narrative understanding, specifically citing the Landscape Model as proposed by van der Broek. However, the landscape model proposes no account of semantic dissociation along the lines he reviews evidence for, so Bower's high-level account of reading comprehension probably should be evaluated on its own. Over a dozen papers on distinct topics can probably be fielded here, but they're all dated before 2005.\n",
    "\n",
    "Kintsch's book places a bigger focus on the propositional level -- at least in its early chapters. His construction-integration model explains comprehension in terms of argument-overlap within a network of propositions. CMR, of course, is all about temporal organizational effects. I've memorized some of those effects -- I need to see if they've been re-documented.\n"
   ]
  }
 ],
 "metadata": {
  "kernelspec": {
   "display_name": "Python 3 (ipykernel)",
   "language": "python",
   "name": "python3"
  },
  "language_info": {
   "codemirror_mode": {
    "name": "ipython",
    "version": 3
   },
   "file_extension": ".py",
   "mimetype": "text/x-python",
   "name": "python",
   "nbconvert_exporter": "python",
   "pygments_lexer": "ipython3",
   "version": "3.9.1"
  }
 },
 "nbformat": 4,
 "nbformat_minor": 5
}

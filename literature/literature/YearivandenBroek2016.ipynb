{
 "cells": [
  {
   "cell_type": "markdown",
   "id": "d9ff8f50-231f-462b-8ba1-1daebba02a4b",
   "metadata": {},
   "source": [
    "Yeari, M., & van den Broek, P. (2016). A computational modeling of semantic knowledge in reading comprehension: Integrating the landscape model with latent semantic analysis. Behavior research methods, 48(3), 880-896."
   ]
  },
  {
   "cell_type": "code",
   "execution_count": null,
   "id": "4b0a6fb1-e27d-4be1-98a4-599e449203f8",
   "metadata": {},
   "outputs": [],
   "source": []
  }
 ],
 "metadata": {
  "kernelspec": {
   "display_name": "Python 3 (ipykernel)",
   "language": "python",
   "name": "python3"
  },
  "language_info": {
   "codemirror_mode": {
    "name": "ipython",
    "version": 3
   },
   "file_extension": ".py",
   "mimetype": "text/x-python",
   "name": "python",
   "nbconvert_exporter": "python",
   "pygments_lexer": "ipython3",
   "version": "3.9.1"
  }
 },
 "nbformat": 4,
 "nbformat_minor": 5
}

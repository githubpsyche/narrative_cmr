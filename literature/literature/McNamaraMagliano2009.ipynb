{
 "cells": [
  {
   "cell_type": "markdown",
   "id": "41b0f498-e057-438b-b985-e34f21ac0108",
   "metadata": {},
   "source": [
    "# McNamara, D. S., & Magliano, J. (2009). Toward a comprehensive model of comprehension. Psychology of learning and motivation, 51, 297-384.\n",
    "\n",
    "> The goal of this chapter is to provide the foundation toward developing a more comprehensive model of reading comprehension. To this end, seven prominent comprehension models (Construction–Integration, Structure-Building, Resonance, Event-Indexing, Causal Network, Constructionist, and Landscape) are described, evaluated, and compared. We describe what comprehension models have offered thus far, differences and similarities between them, and what comprehension processes are not included within any of the models, and thus, what should be included in a comprehensive model. Our primary conclusion from the review of this literature is that current models of comprehension are not necessarily contradictory, but rather cover different spectrums of comprehension processes. Further, no one model adequately accounts for a wide variety of reading situations that have been observed and the range of comprehension considered thus far in comprehension models is too limited.\n",
    "\n",
    "Paper is kind of light in discussion of behavioral phenomena. Important, though, that it names models and their shared assumptions, since linked papers "
   ]
  },
  {
   "cell_type": "markdown",
   "id": "e8bcd0ab-b8c6-4246-9cf1-df3c3090f11d",
   "metadata": {},
   "source": [
    "## Inference as Key Model Constraint"
   ]
  },
  {
   "cell_type": "markdown",
   "id": "ec4a108d-194f-48f3-b07d-f7a42add86bc",
   "metadata": {},
   "source": [
    "> Inferencing is the process of connecting information in the environment (e.g., current sentence of a text) to information that is not in the current environment (e.g., information in the ensuing representation of the text, world knowledge, or episodic knowledge for past events, such as other texts or prior experiences). One type of inference connects current information to information that was previously encountered in the text, such as connecting the current sentence to a previous sentence. These are often called bridging inferences. Another type of inference connects current information to knowledge that is not in the text. For such knowledge-based inferences, the comprehender brings knowledge that is related to the text to the focus of attention, and by doing so, makes connections between the text and prior knowledge. These are often called associative inferences or elaborations. Where text and discourse researchers are divided is on the extent to which inferences are generated and the nature of those inferences. For example, there has been some debate over whether readers generate elaborative inferences that are not necessary for establishing coherence in understanding (e.g., Graesser et al., 1994, McKoon and Ratcliff, 1992).\n",
    "\n",
    "Paper emphasizes bridging inferences (connecting current information to prior information) and elaborative inferences (connecting current information to outside information) The Yeari & van den Broek (2016) paper spends a third of its simulation analyses on predictive inference (predicting future information based on what's read so far). \n",
    "\n",
    "How do these map to the phenomena explored by Bower in his 2008 paper? It depends on how Bower probed those phenomena. A lot of these check the time required to answer questions about distant information. That's similar to bridging inference, but really the commonality is what's being retrieved. Inference additionally requires connecting current information to what's retrieved."
   ]
  },
  {
   "cell_type": "markdown",
   "id": "a9842bdf-2954-47f7-b184-3683d880d382",
   "metadata": {},
   "source": [
    "## Important Debates"
   ]
  },
  {
   "cell_type": "markdown",
   "id": "f0b9085c-7c6e-47b7-958d-6ea1993a9669",
   "metadata": {},
   "source": [
    "> For example, there has been some debate over whether readers generate elaborative inferences that are not necessary for establishing coherence in understanding (e.g., Graesser et al., 1994, McKoon and Ratcliff, 1992)."
   ]
  },
  {
   "cell_type": "markdown",
   "id": "0c271ba7-c16f-49ac-8172-3aa7878c7cce",
   "metadata": {},
   "source": [
    "## Common Features Across Models\n",
    "> 1. Connectionist architecture. Following connectionist assumptions, most models assume that comprehension involves the parallel activation of information in the environment (e.g., words in the text), the underlying meaning of that information, and prior knowledge. Activation sources are often represented as layers in a network of nodes and links, with nodes representing words, propositions, or concepts, and links representing the relationships between them (e.g., predicates, verbs, causal connections).\n",
    "> 2. Spreading activation. This is the notion that the activation of concepts spreads activation to related concepts, resulting in a change in their activation. Current models generally assume some sort of retrieval mechanism that determines what information is initially activated or available. Spreading activation is applied to the available concepts in memory, and this process changes the activation of concepts depending on their connectivity and initial strengths in the representation.\n",
    "> 3. Automatic unconscious processing. Virtually all models assume that some information is available automatically during reading, and that there is some level of processing that is not consciously available to the reader. However, the nature of automaticity, which comprehension processes are automatic or unconscious, and the effects of unconscious processing is debated between models.\n",
    "> 4. Discourse focus. Comprehension models commonly assume that there is an attentional focus by the reader and this focus changes across time and as the input changes. The memorial strength of concepts and ideas is in part related to the amount of attentional focus they receive during encoding.\n",
    "> 5. Convergence and constraint satisfaction. Comprehension models generally assume that the activation of any given concept or idea is based on the degree to which it receives activation from related concepts and ideas. The mental representation is constrained by activated concepts and the relations between concepts in the input, as well as by information available from long-term memory.\n",
    "> 6. Mapping. This is a general term to refer to processes to establish how the current linguistic input is related to the prior context. Mapping is influenced by referential and situational cohesion. It is likely an unconscious activity, but the product can be consciously available to the reader. A sense of continuity emerges from the mapping process. When mapping fails, the reader may be induced to generate inferences.\n",
    "> 7. Text-based inferencing. This refers to making inferences that establish connections between discourse constituents (or bridging inferences). These inferences can result when mapping processes encounter referential or situational cohesion gaps. Relationships between ideas in the text must be inferred when explicit cues such as argument overlap and connectives are absent. These inferences may be considered part of the situation model to the extent that they reflect causal, motivational, temporal, and spatial relationships.\n",
    "> 8. Memory constraints. Comprehension models generally assume that working memory capacity is limited. Some models of comprehension have adopted an information processing perspective wherein working memory and long-term memory are separate and working memory capacity is limited. Other models have adopted the long-term working memory perspective wherein recently activated or highly familiar information is quickly available from long-term (working) memory.\n",
    "\n",
    "\"The memorial strength of concepts and ideas is in part related to the amount of attentional focus they receive during encoding.\" seems falsifiable. But \"attentional focus\" is an unobservable theoretical construct, unless I bring eye-movement data in. But frankly, \"the more I look at this, the better I remember it later\" is not the benchmark comprehension effect I'm interested in."
   ]
  },
  {
   "cell_type": "markdown",
   "id": "57545ce8-307c-4a19-8151-8c2e7ce86426",
   "metadata": {},
   "source": [
    "### Constraint Satisfaction -> Suppression?\n",
    "> The fifth common dimension of comprehension models is that what comes into focus is at least partially a function of (5) convergence and constraint satisfaction, such that the activation of a concept is determined by its relation to other concepts. Concepts that are related to other concepts in the discourse will receive more activation, and thus will be more memorable. This convergence of activation is the result of spreading activation. That is, related concepts spread activation to each other, and therefore, concepts with more connections to other concepts receive more activation. The concepts with the greatest amount of activation become conscious and more memorable. Those with few connections recede from consciousness, or the discourse focus, and tend to be less memorable.\n",
    "\n",
    "Goes back to the whole suppression/domination divide I keep wondering about. If I treat that as a false dilemma like in the framing here, it seems I was wrong that there is no form of suppression in the landscape model: disconnected idea units get suppressed/forgotten in memory. \n",
    "\n",
    "\"activation of a concept is determined by its relation to other concepts\" seems like a falsifiable idea. If all the models agree on this, then there should be a benchmark phenoemna that goes with it, right?."
   ]
  },
  {
   "cell_type": "markdown",
   "id": "bf1af3d5-75ec-4cb4-83a6-4e03a9f67983",
   "metadata": {},
   "source": [
    "## Text Cohesion and Prior Knowledge Interact\n",
    "> This aspect of the model led to predictions confirmed first by McNamara, Kintsch, Songer, and Kintsch (1996) that the effects of text cohesion and prior knowledge interact (see also McNamara, 2001, McNamara and Kintsch, 1996a, O'Reilly and McNamara, 2007a, Ozuru et al., 2009). These studies show that low-knowledge readers benefit from greater cohesion in the text because they lack the necessary prior knowledge to generate bridging inferences. When the text lacks cohesion, inferences may improve the reader's textbase-level understanding and those inferences may improve the situation model for individual sentences, but the reader is generally unable to generate the knowledge-based inferences necessary to make connections between separate ideas in the text (McNamara, 2004). By contrast, high-knowledge readers (who do not generate strategic inferences; O'Reilly & McNamara, 2007a) gain from the cohesion gaps in the text because they are induced by the gaps to access knowledge to understand the text. Thus, low-knowledge readers gain from high cohesion text, whereas high-knowledge readers gain from low cohesion text.\n",
    "\n",
    "> The theoretical explanation for these cohesion effects (for both high- and low-knowledge readers) rests on the assumption that comprehension is largely determined by the coherence of the reader's situation model, and this is a function of both the cohesion of the text and the inferences generated by the reader. This assumption is generally accepted by models of comprehension."
   ]
  },
  {
   "cell_type": "markdown",
   "id": "ce55908d-ba35-4351-9232-81491faff50d",
   "metadata": {},
   "source": [
    "## Structure Building Model\n",
    "> The assumption that laying a foundation occurs during comprehension is supported by three sources of evidence. First, comprehenders show slower reading times during the initial stages of processing, such as when they read the first sentence of a paragraph (e.g., Glanzer et al., 1984, Graesser and Mandler, 1975) or the first sentence of an episode (e.g., Haberlandt, Berian, & Sandson, 1980). They also process more slowly the first picture of a picture story (Gernsbacher, 1983). Second, the first sentences in a story provide better cues for recalling the remainder of the story (Mandler & Goodman, 1982). And, finally, comprehenders show an advantage for first mention, where the first mentioned protagonist is more easily accessed than the second mentioned. For example, in the sentence, Tina gathered the kindling, and Lisa set up the tent, the first protagonist, Tina, is more quickly accessed in memory than is Lisa after reading both clauses (e.g., Gernsbacher, Hargreaves, & Beeman, 1989). Thus, even though Lisa is more recent, Tina is more accessible in memory.\n",
    "\n",
    "A Primacy Effect in Reading Comprehension?\n",
    "\n",
    "> Once the foundation is laid, then the comprehender maps information onto the structure. The likelihood of information successfully mapping to the structure is driven by syntactic, referential, temporal, locational, and causal overlap (Gernsbacher & Givon, 1995). Overlap can be signaled in various ways including syntactic cues (Gernsbacher, 1991, Gernsbacher and Robertson, 2002), concept repetition (e.g., Haviland & Clark, 1974), pronominal reference (e.g., Lesgold, 1972), temporal and locational contiguity (Anderson et al., 1983, Black and Bower, 1979, Haenggi et al., 1993), causal coherence (Deaton and Gernsbacher, 1997, Keenan et al., 1984, Myers et al., 1987, Zwaan et al., 1995b), and emotional contiguity (Gernsbacher, Goldsmith, & Robertson, 1992). When comprehenders cannot map to a structure, then a substructure is built, which in turn requires laying another foundation. This is called shifting. When a comprehender shifts, a new foundation or substructure is created, and the process is begun anew.\n",
    "\n",
    "So the mapping stuff here is vague but the prediction about when failure happens and what its consequences will be is not so vague: slower processing, better memory/accessibility.\n",
    "\n",
    "> According to the model, skilled and less-skilled comprehenders can be distinguished in terms of the efficiency of suppression processes which determine how quickly the irrelevant meanings of ambiguous words lose activation (Gernsbacher and Faust, 1991, Gernsbacher et al., 1992). Suppression is considered in the Structure-Building model to be the result of a directed reduction in activation by way of a mechanism that allows skilled comprehenders to inhibit irrelevant information, but is lacking for less-skilled comprehenders (e.g., Gernsbacher & St. John, 2000; cf. McNamara & McDaniel, 2004). \n",
    "\n",
    "> For example, homographs such as bug, match, mold, and spade have multiple meanings that are initially activated regardless of the meanings’ relevance to the sentence context (e.g., Kintsch and Mross, 1985, Tabor and Tanenhaus, 1999; cf. Simpson & Krueger, 1991). Gernsbacher et al. (1990) presented participants with experimental sentences ending with homographs such as He dug with a spade or control sentences such as He dug with a shovel, followed by an inappropriate target word, ACE. The participant decided if it was related to the previous sentence. They found an ambiguity effect such that response times to reject the inappropriate word were slower for the homograph sentences than for the control sentences when the target word was presented after only 50 ms. The slower response times indicated that the activation of the irrelevant meaning of the sentence-final ambiguous word competed with the correct response. However, after a 1000 ms delay, interference from the irrelevant meaning disappeared for skilled comprehenders, but remained for less-skilled comprehenders.\n",
    "\n",
    "So this model does propose suppression happens. But this is word-level stuff. I need evidence of differential suppression ability at the idea unit level. Would be cool to connect with ideas around suppression from the Bower paper. Like what? Oh, right, the suppression of post-poned goals. I'll have to look at the apaper:\n",
    "\n",
    "> The efficiency of suppression also has implications for mapping and shifting. The model proposes that readers with more effective suppression mechanisms create fewer substructures because they are able to inhibit irrelevant information, rather than creating a new substructure. Less-skilled comprehenders, by contrast, are assumed to have inefficient suppression mechanisms, which leads to multiple substructures being created and maintained (Gernsbacher, 1990, Gernsbacher, 1997).\n",
    "\n",
    "Paper argues that SB model may have a network-based implementation:\n",
    "\n",
    "> The three processes proposed by the Structure-Building model, laying a foundation, shifting, and suppression, may also be viewed as emergent. Gernsbacher, 1990, Gernsbacher, 1997 interprets the effects of comprehension processes involved in laying a foundation as revealing processes unique to comprehending information after the initial sentence, clause, or picture. Alternatively, these effects can be interpreted as emergent properties of constraint-based connectionist systems such as the CI model (Kintsch, 1998). One problem with the Structure-Building interpretation is that it implicitly requires that the comprehender be aware of beginnings of and changes in episodes, or that somehow, this separate process of laying a foundation kicks in automatically. Alternatively, the evidence observed in support of comprehenders laying a foundation can be viewed in terms of three phenomena. First, the lack of background information at the start of a discourse means that there is no information primed, and there is no information to link back to and as such, processing will necessarily take longer (McNamara & Kintsch, 1996b). Second, the network will be more sparse because there are fewer textual cues and there is no information previously activated. A sparse network is less coherent, and thus takes longer to settle and is less stable. Thus, this aspect too will lead to longer times to process the information. Third, because there is no related information previously activated, there will be less interference. This lack of interference will result in primacy effects. Due to release from proactive interference, these effects would also be observed at the change of an episode.\n",
    "\n",
    "I'll have to digest. No information primed means processing must take longer? Why? A sparse network is less coherent and thus takes longer to settle and is less stable? Which theory proposes people wait/process until stability is achieved? Because there is no related information previously activated, there will be less interference? I guess this means activation will totally be the first sentence; in certain models that could correspond to primacy (it wouldn't in CMR). \n",
    "\n",
    "Release from proactive interference is a totally new concept to me and I need to figure out how it fits into everything else I know. \n",
    "\n",
    "> However, McNamara and colleagues (McNamara, 1997, McNamara and McDaniel, 2004, Rowe and McNamara, 2008) have shown that suppression can emerge without negative links (or inhibition) within the CI model by assuming that suppression results from greater activation of relevant information which results in a more coherent situation model representation. Based on research showing that skilled comprehenders make more inferences to prior discourse and to prior knowledge (e.g., Long et al., 1994, Oakhill and Yuill, 1996, Whitney et al., 1991), McNamara (1997) assumed that less-skilled comprehenders activate a minimal number of extrasentential concepts to understand the target sentence, whereas skilled comprehenders activate more concepts that are not explicit in the textbase. In sum, skilled comprehenders construct a more coherent, richer situation model when reading because more inferences are generated and more knowledge is activated. Replicating Gernsbacher's results, the network representing the less-skilled reader took more time to suppress the irrelevant meaning of the ambiguous words, and the network representing the skilled readers took less time, without including negative links between the relevant and irrelevant meanings (see also Rowe & McNamara, 2008; cf. Kintsch, 1998). McNamara and McDaniel (2004) further showed that differences in the ability to suppress irrelevant information also emerge as a function of prior knowledge. When the reader has more prior knowledge, irrelevant meanings of ambiguous words are suppressed more quickly, regardless of reading skill. Thus, greater activation of knowledge results in faster suppression of irrelevant concepts.\n",
    "\n",
    "I'm still dubious that this can explain the suppression effects I'm interested in but now I do understand that suppression can happen just via extra activation of alternatives."
   ]
  },
  {
   "cell_type": "markdown",
   "id": "cb6e16ab-32ea-46f1-ae5d-7e7b4f6190ff",
   "metadata": {},
   "source": [
    "## Side Stuff\n",
    "\n",
    "> Theories of comprehension are universally concerned with the nature of a mental representation that emerges when readers and listeners process larger discourse structures such as stories, informational passages, books, textbooks, and conversations. The process of understanding the words, the sentences, and the relations between the sentences comprises comprehension. Its prerequisite, though not necessarily its precursor, is the decoding and parsing of the information. All comprehension models assume that lower-level processes such as word decoding and syntactic parsing contribute to comprehension, but that these processes are more or less in place at the start of the higher-level comprehension processes described by these models.\n",
    "\n",
    "> The field of text and discourse picks up after basic language understanding, to explain processes germane to the comprehension of multiple ideas and the relations between those ideas. These processes include understanding the gist or underlying meaning of ideas; the priming (or unconscious activation) of related concepts, and the linking of ideas that are explicitly related. When those ideas are not explicitly related or when the comprehender seeks a deeper understanding, then inferences comprise a critical component of comprehension.\n",
    "\n",
    "Good language separating comprehension from lower level language understanding.\n",
    "\n",
    "> The first is that of levels of comprehension. This is a concept closely tied to the CI model, which postulates that different aspects of the readers' mental representation are more or less dominant, and this dominance is reflected in various measures that tap into the various levels of the mental representation. For example, if the reader has focused primarily on the explicit concepts on the text, and has not generated abundant inferences, then the textbase-level representation would be expected to be more fully developed, whereas the situation model representation (depending on the text) would be weaker. These aspects are expected to be apparent via different types of comprehension measures (e.g., van den Broek, 1994). Recall and text-based questions tap the reader's textbase-level representation and measures such as bridging inference questions, sorting tasks, and problem-solving questions are assumed to tap the situation model representation. Because levels of comprehension emerge from the reader's comprehension processes and from the representation built by the reader, we consider it to be emergent.\n",
    "\n",
    "Interesting differentiation of tasks. Recall tests are thought to tap one level of representation while questions/sorting tasks tap situation representation? Authors argue that it's jsut different ways of looking at the same representation: levels of representation aren't real!\n",
    "\n",
    "> We also consider the construct of hierarchical representations as a description of the nature of discourse representations. This aspect emerges when a discourse constituent(s) (e.g., explicit character goal) becomes central to the representation because it is related to many other discourse constituents. For example, in a James Bond movie or novel, the character is given a goal at the beginning of the story and that goal becomes an organizing feature of the plot structure. The node reflecting that goal is the highest node in the hierarchy. However, it takes on that status as a result of mapping and text-based (i.e., causal) inferences. It is important to note that not all texts afford a hierarchically structured representation and as such, this is driven by features of the discourse.\n",
    "\n",
    "Hierarchical relationships like the one's emphasized in Bower's paper might be emergent features of network-based simulation. Can I prove it? "
   ]
  },
  {
   "cell_type": "markdown",
   "id": "a954c380-5221-4e0b-94a7-db31ecfe5976",
   "metadata": {},
   "source": [
    "I will pause at the resonance model section. Ugh."
   ]
  }
 ],
 "metadata": {
  "kernelspec": {
   "display_name": "Python 3 (ipykernel)",
   "language": "python",
   "name": "python3"
  },
  "language_info": {
   "codemirror_mode": {
    "name": "ipython",
    "version": 3
   },
   "file_extension": ".py",
   "mimetype": "text/x-python",
   "name": "python",
   "nbconvert_exporter": "python",
   "pygments_lexer": "ipython3",
   "version": "3.9.1"
  }
 },
 "nbformat": 4,
 "nbformat_minor": 5
}

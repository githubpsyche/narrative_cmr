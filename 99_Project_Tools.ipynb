{
 "cells": [
  {
   "cell_type": "markdown",
   "id": "faa1d5de-4216-40d3-aef5-aebb53babc9b",
   "metadata": {
    "tags": []
   },
   "source": [
    "# Project Tools\n",
    "Helper functions to help manage research projects."
   ]
  },
  {
   "cell_type": "markdown",
   "id": "c06f9b5d-2cc3-4d45-a7f8-c6aeba01eb53",
   "metadata": {
    "tags": []
   },
   "source": [
    "## Pandoc to Cell Output Configuration"
   ]
  },
  {
   "cell_type": "markdown",
   "id": "fcf82719-5162-4a24-b9ba-701861d2cc2e",
   "metadata": {},
   "source": [
    "I want a function that selects a latex file at bibliography and raters its content as formatted markdown within a Jupyter notebook."
   ]
  },
  {
   "cell_type": "code",
   "execution_count": 2,
   "id": "1413a8ec-280f-4dc4-99d6-08a39528f99d",
   "metadata": {},
   "outputs": [],
   "source": [
    "from IPython.display import Markdown\n",
    "\n",
    "def render_tex(tex_path, bib_path, csl_path):\n",
    "    result = !pandoc -C --ascii {tex_path} -f latex -t markdown_mmd --bibliography {bib_path} --csl {csl_path}\n",
    "    return Markdown('\\n'.join(result))"
   ]
  },
  {
   "cell_type": "markdown",
   "id": "2ab1c4ef-04d9-44e1-b0be-6d04bcb7f36e",
   "metadata": {},
   "source": [
    "To test the function, we'll render the paper abstract inside `writing/`. "
   ]
  },
  {
   "cell_type": "code",
   "execution_count": 4,
   "id": "ffe5dc6d-10b5-4755-9c5a-f5b9f02291a7",
   "metadata": {},
   "outputs": [
    {
     "data": {
      "text/markdown": [
       "Paper can review models and main phenomena of narrative comprehension\n",
       "AND free recall, focusing on offline products but also connecting to\n",
       "encoding dynamics.\n",
       "\n",
       "Focus on centrality and its role especially in recent analyses/modeling\n",
       "of offline comprehension products.\n",
       "\n",
       "Also focus of course on temporal organization and relevant benchmarks.\n",
       "\n",
       "Announced plans:\n",
       "\n",
       "1\\. To show that neither CMr nor LS-R nor even semantic-CMR\n",
       "satisfactorily account for both relevant semantic and temporal\n",
       "organizational phenomena.\n",
       "\n",
       "2\\. To present an integrated model of how retrieved context theory and\n",
       "comprehension mechanisms interact to organize offline recall.\n",
       "\n",
       "3\\. To leverage, for the first time, a likelihood-based analysis of the\n",
       "model&rsquo;s capacity to account for the sequence of recalls to support\n",
       "these comparisons.\n",
       "\n",
       "4\\. To connect these results to novel predictions about the dynamics of\n",
       "comprehension and memory and point the way forward to\n",
       "more...parsimonious models."
      ],
      "text/plain": [
       "<IPython.core.display.Markdown object>"
      ]
     },
     "execution_count": 4,
     "metadata": {},
     "output_type": "execute_result"
    }
   ],
   "source": [
    "render_tex('writing/01_Abstract.tex', 'writing/references.bib', 'writing/main/apa.csl')"
   ]
  },
  {
   "cell_type": "markdown",
   "id": "ab650f31-29f9-40ad-9171-886c42710efa",
   "metadata": {},
   "source": [
    "## Export Parts of Notebooks to Importable Python Scripts"
   ]
  },
  {
   "cell_type": "code",
   "execution_count": 4,
   "id": "b643b566-ce2b-4730-bf9b-77d37b8e6659",
   "metadata": {},
   "outputs": [
    {
     "name": "stdout",
     "output_type": "stream",
     "text": [
      "Nothing to Convert narrative_cmr\\00_Text_Preprocessing.ipynb\n",
      "Nothing to Convert narrative_cmr\\01_Data_Preparation.ipynb\n",
      "Nothing to Convert narrative_cmr\\02_Landscape_Model.ipynb\n",
      "Converted narrative_cmr\\Semantic_CMR.py\n",
      "Nothing to Convert narrative_cmr\\04_Semantic_Effects.ipynb\n",
      "Nothing to Convert narrative_cmr\\05_Temporal_Effects.ipynb\n",
      "Nothing to Convert narrative_cmr\\06_Visualizing_Model_States.ipynb\n",
      "Nothing to Convert narrative_cmr\\07_Fitting_By_Likelihood.ipynb\n",
      "Nothing to Convert narrative_cmr\\08_Model_Comparison.ipynb\n",
      "Converted narrative_cmr\\Project_Tools.py\n"
     ]
    }
   ],
   "source": [
    "from nbdevminimum.core import simple_export_all_nb\n",
    "from pathlib import Path\n",
    "\n",
    "simple_export_all_nb(nbs_path=Path('.'), lib_path=Path('narrative_cmr'))"
   ]
  },
  {
   "cell_type": "code",
   "execution_count": null,
   "id": "73e8062d-543a-4f19-9851-9ccef1d0e457",
   "metadata": {},
   "outputs": [],
   "source": []
  }
 ],
 "metadata": {
  "kernelspec": {
   "display_name": "Python 3 (ipykernel)",
   "language": "python",
   "name": "python3"
  },
  "language_info": {
   "codemirror_mode": {
    "name": "ipython",
    "version": 3
   },
   "file_extension": ".py",
   "mimetype": "text/x-python",
   "name": "python",
   "nbconvert_exporter": "python",
   "pygments_lexer": "ipython3",
   "version": "3.9.1"
  }
 },
 "nbformat": 4,
 "nbformat_minor": 5
}
